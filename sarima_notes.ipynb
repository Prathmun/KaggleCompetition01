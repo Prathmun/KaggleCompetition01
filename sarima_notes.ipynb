{
 "cells": [
  {
   "cell_type": "code",
   "execution_count": 1,
   "metadata": {},
   "outputs": [],
   "source": [
    "import pandas as pd\n",
    "import numpy as np\n",
    "import matplotlib.pyplot as plt\n",
    "from statsmodels.tsa.stattools import pacf\n",
    "from statsmodels.graphics.tsaplots import plot_pacf\n",
    "from scipy.stats import linregress"
   ]
  },
  {
   "cell_type": "markdown",
   "metadata": {},
   "source": [
    "# Explanation of SARIMA parameters\n",
    "\n",
    "In this notebook we develop documentation for easy reference that tell us what these mighty and enigmatic SARIMA model orders are. That's p, d, q, P, D, Q, S.\n",
    "\n",
    "A SARIMA model is a time series model that lets you predict future values of some variable(s) of interest. It stands for Seasonal AutoRegressive Integrated Moving Average. Really, it can be thought of as three racoons standing on eachother's shoulders in a trench coat, which is to say that a SARIMA model is composed of three smaller time series models. Those are Autoregressive (AR) and Moving Average (MA), which together are Integrated (I) and combined with a Seasonal (S) component. It will be helpful to consider each little racoon as its own entity before looking at the whole coated figure. These are the three models that SARIMA is compose\n",
    "\n",
    "- Autoregressive (AR) model.\n",
    "A model unto its own! Tries to predict the future value of some target variable based on that target variable's values in the past. For example, what are tomorrow's used car sales? How many days back is most helpful for allowing us to predict tomorrow's sales? Only yesterday? Only 3 days ago? In essence, we're drawing a best fit line through a scatter plot of lagged data (the x values) and the current data (y values) to see which one has the least amount of error. You might be thinking \"of course if we want to predict future values we'll have to do so from past values!\" That's right, but the problem gets a little trickier when you consider that predicting the future in a world of uncertainties isn't a deterministic endeavor. SARIMA models acknowledge this by saying your predictions will ALWAYS have some error. That is to say, you can't predict the future with 100% certainty. This is worth pointing out not just for the philosophical point, but the mathematical implications: AR models use past values of the *target variable*, but ignore past error values. Your equation predicting the future will always need to append some uncertainty. This brings us to Moving Average Models.\n",
    "\n",
    "- Moving Average (MA) model."
   ]
  },
  {
   "cell_type": "markdown",
   "metadata": {},
   "source": [
    "# To do list! Open Questions!\n",
    "\n",
    "- How are the B's determined? Is that the work of the SARIMA model? How does it do that if so? \n",
    "- How is e determined?\n",
    "- How do the equations for p (autoregressive) and q (moving average) integrate to form an ARIMA model?\n",
    "- How do we determine scedasticity?\n",
    "- What actually are each of the numbers in a pacf output? We know the pacf function plots autocorrelation at different lags, but how exactly are each autocorrelation computed?\n",
    "    - Link where we left off investigating: https://online.stat.psu.edu/stat510/book/export/html/678#:~:text=Autocorrelation%20Function%20(PACF)-,2.2%20Partial%20Autocorrelation%20Function%20(PACF),some%20other%20set%20of%20variables."
   ]
  },
  {
   "cell_type": "markdown",
   "metadata": {},
   "source": [
    "### What is little p\n",
    "\n",
    "p is the order of your autoregressive model. It is to how many lags back the model is to observe previous values of the target variable. If you're lookin to wrangle your p parameter pardner, you will be looking at the AR piece of the SARIMA model. Forget the other stuff for now, it's AR time. It'll start making sense when you take a look at the equation for an autoregresesive model \n",
    "\n",
    "The basic equation for an autoregressive model is this:\n",
    "\n",
    "y<sub>t</sub> = B<sub>0</sub> + B<sub>1</sub>y<sub>t-1</sub> + e<sub>t</sub>\n",
    "\n",
    "y<sub>t</sub> = the value you're trying to predict at time t<br />\n",
    "y<sub>t-1</sub> = the previous value\n",
    "\n",
    "B<sub>n</sub> = The coefficient of y at lag n. Consider y<sub>t</sub> = 3 + 2y<sub>t-1</sub> + e<sub>t</sub> <br /> 3 is the B value at t = 0 (B<sub>0</sub> = 3) and 2 is the B value at t-1 (B<sub>1</sub> = 2)\n",
    "\n",
    "e = Error. All time series equations have inherent error, and e represents it. \n",
    "\n",
    "The y's can be subscripted down to whatever lag it needs to be. So like t-1 is one period ago, but it can be all the way back to t-n. \n",
    "So if I want to predict tomorrow's sales, that's y<sub>t</sub>. Today's sales would be y<sub>t-1</sub>.\n",
    "\n",
    "So if you have an autoregressive equation that goes back 3 time periods then it's going to have all the way to t-3. E.g. an AR(3) would be \n",
    "\n",
    "y<sub>t</sub> = B<sub>0</sub> + B<sub>1</sub>y<sub>t-1</sub> + B<sub>2</sub>y<sub>t-2</sub> + B<sub>3</sub>y<sub>t-3</sub> + e<sub>t</sub>\n",
    "\n",
    "### Identifying p\n",
    "\n",
    "The Partial Autocorrelation Function (PACF) is most useful for identifying the order of an autoregressive model. A PACF is a function which you can plot to show how well the target values correlate with each other at various time lags, i.e. how well can you predict subsequent values from past ones. The x axis will be \"lags,\" aka discrete time periods (if you're capturing data daily than one lag ago would be one day ago). The y axis will be how well the value of the target variable at that lag correlates with the most recent value of the target variable. Check out the image for elucidation!\n",
    "\n",
    "![image](pacf_example.jpg \"image\")\n",
    "\n",
    "So how do you use a PACF to find p? \"large PACF values at a given lag indicate this value as a possible choice for the order of an autoregressive model.\" \"For an AR model, the theoretical PACF “shuts off” past the order of the model. The phrase “shuts off” means that in theory the partial autocorrelations are equal to 0 beyond that point. Put another way, the number of non-zero partial autocorrelations gives the order of the AR model. By the “order of the model” we mean the most extreme lag of x that is used as a predictor.\"\n",
    "\n",
    "Should check PACF and ACF plots though and look for a pattern as well as when it dips below significance threshold. \n",
    "\n",
    "Values lying outside of either of these bounds (the significance thresholds of the PACF plots) are indicative of an autoregressive process.\n",
    "\n",
    "*At this point we're curious about walking through the mathematical determination of a p. Specifically, we want to look at the relationship between the pacf plot and the p-value that you'll get for linear regression models at different lags.*\n",
    "\n",
    "In pursuance of the above italicized text:\n",
    "- grab some time series data (keep it simple)\n",
    "- generate pacf plot of it\n",
    "- run linear regression models at various time lags that seem relevant (probably just those hopeful few time lags that are above the significance threshold)\n",
    "- compare corresponding p-values to their lag on the pacf plot\n",
    "- Hypothesis: The last significant lag should be the one with the lowest (and therefore best) p_value. And that lag will be your p choice."
   ]
  },
  {
   "cell_type": "code",
   "execution_count": 2,
   "metadata": {},
   "outputs": [
    {
     "data": {
      "text/html": [
       "<div>\n",
       "<style scoped>\n",
       "    .dataframe tbody tr th:only-of-type {\n",
       "        vertical-align: middle;\n",
       "    }\n",
       "\n",
       "    .dataframe tbody tr th {\n",
       "        vertical-align: top;\n",
       "    }\n",
       "\n",
       "    .dataframe thead th {\n",
       "        text-align: right;\n",
       "    }\n",
       "</style>\n",
       "<table border=\"1\" class=\"dataframe\">\n",
       "  <thead>\n",
       "    <tr style=\"text-align: right;\">\n",
       "      <th></th>\n",
       "      <th>date</th>\n",
       "      <th>store_nbr</th>\n",
       "      <th>transactions</th>\n",
       "      <th>id</th>\n",
       "      <th>family</th>\n",
       "      <th>sales</th>\n",
       "    </tr>\n",
       "  </thead>\n",
       "  <tbody>\n",
       "    <tr>\n",
       "      <th>0</th>\n",
       "      <td>2013-01-02</td>\n",
       "      <td>41</td>\n",
       "      <td>915</td>\n",
       "      <td>2946</td>\n",
       "      <td>DELI</td>\n",
       "      <td>206.435000</td>\n",
       "    </tr>\n",
       "    <tr>\n",
       "      <th>1</th>\n",
       "      <td>2013-01-03</td>\n",
       "      <td>41</td>\n",
       "      <td>809</td>\n",
       "      <td>4728</td>\n",
       "      <td>DELI</td>\n",
       "      <td>149.618000</td>\n",
       "    </tr>\n",
       "    <tr>\n",
       "      <th>2</th>\n",
       "      <td>2013-01-04</td>\n",
       "      <td>41</td>\n",
       "      <td>835</td>\n",
       "      <td>6510</td>\n",
       "      <td>DELI</td>\n",
       "      <td>112.590004</td>\n",
       "    </tr>\n",
       "    <tr>\n",
       "      <th>3</th>\n",
       "      <td>2013-01-05</td>\n",
       "      <td>41</td>\n",
       "      <td>1021</td>\n",
       "      <td>8292</td>\n",
       "      <td>DELI</td>\n",
       "      <td>161.583000</td>\n",
       "    </tr>\n",
       "    <tr>\n",
       "      <th>4</th>\n",
       "      <td>2013-01-06</td>\n",
       "      <td>41</td>\n",
       "      <td>1142</td>\n",
       "      <td>10074</td>\n",
       "      <td>DELI</td>\n",
       "      <td>228.133000</td>\n",
       "    </tr>\n",
       "  </tbody>\n",
       "</table>\n",
       "</div>"
      ],
      "text/plain": [
       "         date  store_nbr  transactions     id family       sales\n",
       "0  2013-01-02         41           915   2946   DELI  206.435000\n",
       "1  2013-01-03         41           809   4728   DELI  149.618000\n",
       "2  2013-01-04         41           835   6510   DELI  112.590004\n",
       "3  2013-01-05         41          1021   8292   DELI  161.583000\n",
       "4  2013-01-06         41          1142  10074   DELI  228.133000"
      ]
     },
     "execution_count": 2,
     "metadata": {},
     "output_type": "execute_result"
    }
   ],
   "source": [
    "df = pd.read_csv('store41_deli.csv')\n",
    "df.head()"
   ]
  },
  {
   "cell_type": "code",
   "execution_count": 3,
   "metadata": {},
   "outputs": [
    {
     "data": {
      "image/png": "[encoded data removed]",
      "text/plain": [
       "<Figure size 640x480 with 1 Axes>"
      ]
     },
     "metadata": {},
     "output_type": "display_data"
    }
   ],
   "source": [
    "# So check it. Here is the pacf. Now we will move on to fiddling with the linear regression model to sort of try and rebuild what we're seeing with this pacf plot.\n",
    "plot_pacf(df['sales'], lags = 30)\n",
    "plt.show()"
   ]
  },
  {
   "cell_type": "code",
   "execution_count": 4,
   "metadata": {},
   "outputs": [
    {
     "data": {
      "text/plain": [
       "array([ 1.00000000e+00,  4.58017818e-01, -1.02064959e-01,  1.30209208e-02,\n",
       "        8.89883233e-03,  1.30496753e-01,  3.92877395e-01,  5.95524409e-01,\n",
       "       -7.85099655e-02, -1.00177667e-01, -4.72978605e-02, -2.06894143e-02,\n",
       "       -4.07485527e-02,  7.99507778e-02,  3.12004783e-01, -6.69970931e-02,\n",
       "       -3.61629185e-02, -1.49932447e-02,  2.20404747e-02,  5.93595091e-03,\n",
       "        6.64174135e-04,  1.46019289e-01, -4.67177595e-02, -4.10570321e-02,\n",
       "        2.93861062e-02,  6.57756767e-02, -6.29646404e-03,  9.91349427e-03,\n",
       "        1.53815883e-01, -4.57941103e-02,  5.05528630e-02,  2.84916989e-02,\n",
       "        4.52277405e-03])"
      ]
     },
     "execution_count": 4,
     "metadata": {},
     "output_type": "execute_result"
    }
   ],
   "source": [
    "# Output the autocorrelation values for closer inspection (to taste)\n",
    "pacf(df['sales'])"
   ]
  },
  {
   "cell_type": "code",
   "execution_count": 5,
   "metadata": {},
   "outputs": [],
   "source": [
    "# Create function to create lagged set of data back to specified lag\n",
    "# Also reshapes data to match the lagged data length\n",
    "def lag_maker(sales, lag):\n",
    "    lag_n = sales.shift(periods = -lag)\n",
    "    lag_n.dropna(inplace=True)\n",
    "    \n",
    "    length_n = len(lag_n)\n",
    "    current_sales_lag_n = sales[:length_n]\n",
    "    \n",
    "    return current_sales_lag_n, lag_n"
   ]
  },
  {
   "cell_type": "code",
   "execution_count": 6,
   "metadata": {},
   "outputs": [],
   "source": [
    "# Store p values\n",
    "p_values = []\n",
    "# Create list of lags\n",
    "lags = [1, 2, 3, 4, 5, 6, 7]\n",
    "\n",
    "# iterate through lags, calling the custom lag function and performing linear regression with current data and lagged data, storing p-values\n",
    "for lag in lags:\n",
    "    x, y = lag_maker(df['sales'], lag)\n",
    "\n",
    "    # Perform linear regression\n",
    "    result = linregress(x, y)\n",
    "\n",
    "    # Print results\n",
    "    p_values.append(result.pvalue)"
   ]
  },
  {
   "cell_type": "code",
   "execution_count": 7,
   "metadata": {},
   "outputs": [
    {
     "data": {
      "text/plain": [
       "[1.4055891883691538e-87,\n",
       " 1.1696349061267449e-07,\n",
       " 0.24225864209931627,\n",
       " 0.584988896595316,\n",
       " 5.643564297606656e-06,\n",
       " 2.162685361094715e-68,\n",
       " 1.0588965767569377e-281]"
      ]
     },
     "execution_count": 7,
     "metadata": {},
     "output_type": "execute_result"
    }
   ],
   "source": [
    "p_values"
   ]
  },
  {
   "cell_type": "code",
   "execution_count": 8,
   "metadata": {},
   "outputs": [
    {
     "data": {
      "image/png": "[encoded data removed]",
      "text/plain": [
       "<Figure size 640x480 with 1 Axes>"
      ]
     },
     "metadata": {},
     "output_type": "display_data"
    }
   ],
   "source": [
    "# Same pacf as above, just reproduced with the zoomies for ease of comparison\n",
    "plot_pacf(df['sales'], lags = 10)\n",
    "plt.show()"
   ]
  },
  {
   "cell_type": "markdown",
   "metadata": {},
   "source": [
    "So what did we see with all of that?\n",
    "\n",
    "There is a relationship with the p-value of a linear regression with the current data and itself at different lags. (And as a reminder, a linear regression statistical test seeks to test the alternative hypothesis that there is a linear relationship between two variables against the null hypothesis that there is none). There is an inverse relationship between p_value and correlation: as the p_value decreases, correlation increases."
   ]
  },
  {
   "cell_type": "code",
   "execution_count": 9,
   "metadata": {},
   "outputs": [
    {
     "ename": "NameError",
     "evalue": "name 'lag_1' is not defined",
     "output_type": "error",
     "traceback": [
      "\u001b[1;31m---------------------------------------------------------------------------\u001b[0m",
      "\u001b[1;31mNameError\u001b[0m                                 Traceback (most recent call last)",
      "Cell \u001b[1;32mIn[9], line 2\u001b[0m\n\u001b[0;32m      1\u001b[0m \u001b[38;5;66;03m# Calculate the Pearson correlation coefficient\u001b[39;00m\n\u001b[1;32m----> 2\u001b[0m correlation_matrix \u001b[38;5;241m=\u001b[39m np\u001b[38;5;241m.\u001b[39mcorrcoef(\u001b[43mlag_1\u001b[49m, current_sales)\n\u001b[0;32m      3\u001b[0m pearson_correlation \u001b[38;5;241m=\u001b[39m correlation_matrix[\u001b[38;5;241m0\u001b[39m, \u001b[38;5;241m1\u001b[39m]\n\u001b[0;32m      5\u001b[0m \u001b[38;5;66;03m# Create the scatter plot\u001b[39;00m\n",
      "\u001b[1;31mNameError\u001b[0m: name 'lag_1' is not defined"
     ]
    }
   ],
   "source": [
    "# Calculate the Pearson correlation coefficient\n",
    "correlation_matrix = np.corrcoef(lag_1, current_sales)\n",
    "pearson_correlation = correlation_matrix[0, 1]\n",
    "\n",
    "# Create the scatter plot\n",
    "plt.scatter(lag_1, current_sales, color='blue', label='Data Points')\n",
    "\n",
    "# Calculate the coefficients of the best fit line (slope and intercept)\n",
    "coefficients = np.polyfit(lag_1, current_sales, 1)\n",
    "slope, intercept = coefficients\n",
    "\n",
    "# Create the best fit line\n",
    "best_fit_line = slope * current_sales + intercept\n",
    "\n",
    "# Plot the best fit line\n",
    "plt.plot(lag_1, best_fit_line, color='red', label='Best Fit Line')\n",
    "\n",
    "# Add labels and show the plot\n",
    "plt.xlabel('X-axis')\n",
    "plt.ylabel('Y-axis')\n",
    "plt.title(f'Scatter Plot with Best Fit Line\\nPearson Correlation: {pearson_correlation:.2f}')\n",
    "plt.legend()\n",
    "plt.savefig('line_of_life.png')\n",
    "plt.show()"
   ]
  },
  {
   "cell_type": "markdown",
   "metadata": {},
   "source": [
    "# Bibliography \n",
    "\n",
    "On p: https://online.stat.psu.edu/stat501/book/export/html/996#:~:text=The%20order%20of%20an%20autoregression,value%20at%20the%20present%20time."
   ]
  }
 ],
 "metadata": {
  "kernelspec": {
   "display_name": "Python 3",
   "language": "python",
   "name": "python3"
  },
  "language_info": {
   "codemirror_mode": {
    "name": "ipython",
    "version": 3
   },
   "file_extension": ".py",
   "mimetype": "text/x-python",
   "name": "python",
   "nbconvert_exporter": "python",
   "pygments_lexer": "ipython3",
   "version": "3.11.5"
  }
 },
 "nbformat": 4,
 "nbformat_minor": 2
}
